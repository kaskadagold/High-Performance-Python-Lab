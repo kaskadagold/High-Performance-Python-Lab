{
 "cells": [
  {
   "cell_type": "markdown",
   "id": "868c8a06",
   "metadata": {},
   "source": [
    "# Subtask 2: Compute the integral using trapezoidal rule"
   ]
  },
  {
   "cell_type": "markdown",
   "id": "8f32695f",
   "metadata": {},
   "source": [
    "## Calculation of my function"
   ]
  },
  {
   "cell_type": "code",
   "execution_count": 80,
   "id": "4dc10042",
   "metadata": {},
   "outputs": [],
   "source": [
    "import numpy as np"
   ]
  },
  {
   "cell_type": "code",
   "execution_count": 81,
   "id": "967388a8",
   "metadata": {},
   "outputs": [],
   "source": [
    "def f(x):\n",
    "    return np.sin(x)"
   ]
  },
  {
   "cell_type": "markdown",
   "id": "3ddb9976",
   "metadata": {},
   "source": [
    "## Calculation of the trapezoidal rule"
   ]
  },
  {
   "cell_type": "code",
   "execution_count": 82,
   "id": "d38f1d09",
   "metadata": {},
   "outputs": [],
   "source": [
    "def trapezoidal(x):\n",
    "    a = x[0]\n",
    "    b = x[-1]\n",
    "    N = len(x)\n",
    "    value = 0\n",
    "    for i in range(1, N):\n",
    "        value += (f(x[i]) + f(x[i - 1])) * (x[i] - x[i - 1]) / 2\n",
    "    return value"
   ]
  },
  {
   "cell_type": "markdown",
   "id": "2d945577",
   "metadata": {},
   "source": [
    "# Subtask 1: Compute the value analytically"
   ]
  },
  {
   "cell_type": "markdown",
   "id": "475288ee",
   "metadata": {},
   "source": [
    "## Analytical calculation of the integral and Calculation of the error depending on the discretization error"
   ]
  },
  {
   "cell_type": "markdown",
   "id": "37e7f221",
   "metadata": {},
   "source": [
    "#### My function is f(x) = sin(x). Integration limits: a = 0; b = pi. As a result, the analytical answer is 2. In python, there are also different libraries, which allow one to calculate integrals quite precisely, e.x. SymPy."
   ]
  },
  {
   "cell_type": "code",
   "execution_count": 83,
   "id": "1abb4923",
   "metadata": {},
   "outputs": [
    {
     "name": "stdout",
     "output_type": "stream",
     "text": [
      "Integration with sympy = 2.00000000000000\n"
     ]
    }
   ],
   "source": [
    "from sympy import *\n",
    "import numpy as np\n",
    "\n",
    "analytical_answer = 2\n",
    "x = Symbol('x')\n",
    "sympy_answer = sympy.integrate(sin(x), (x, a, b))\n",
    "print(f'Integration with sympy = {sympy_answer}')\n",
    "\n",
    "a = 0\n",
    "b = np.pi\n",
    "# Discretization size\n",
    "N = [10**3, 10**4, 10**5, 10**6]\n",
    "\n",
    "errors_trap = []\n",
    "\n",
    "for i in N:\n",
    "    x_range = np.linspace(a, b, i)\n",
    "    integral = trapezoidal(x_range)\n",
    "    errors_trap.append(float(2 - integral))"
   ]
  },
  {
   "cell_type": "markdown",
   "id": "a03becf6",
   "metadata": {},
   "source": [
    "# Subtask 5: Plot integration error vs the discretization size"
   ]
  },
  {
   "cell_type": "code",
   "execution_count": 84,
   "id": "059aec27",
   "metadata": {},
   "outputs": [
    {
     "data": {
      "image/png": "[encoded data removed]",
      "text/plain": [
       "<Figure size 1008x504 with 1 Axes>"
      ]
     },
     "metadata": {
      "needs_background": "light"
     },
     "output_type": "display_data"
    }
   ],
   "source": [
    "import matplotlib.pyplot as plt\n",
    "\n",
    "fig, ax = plt.subplots(1, 1, figsize = (14, 7))\n",
    "ax.plot(N, errors_trap)\n",
    "ax.set_title('Integration error vs Discretization size', fontsize = 20, fontstyle = 'oblique')\n",
    "\n",
    "plt.xlabel('Discretization size', fontsize = 15, fontstyle = 'oblique')\n",
    "plt.ylabel('Integration error', fontsize = 15, fontstyle = 'oblique')\n",
    "\n",
    "plt.grid(True)\n",
    "\n",
    "plt.show()"
   ]
  },
  {
   "cell_type": "markdown",
   "id": "d8f5a1e0",
   "metadata": {},
   "source": [
    "# Subtask 3: Parallelize using MPI"
   ]
  },
  {
   "cell_type": "code",
   "execution_count": 85,
   "id": "7b70c037",
   "metadata": {},
   "outputs": [
    {
     "name": "stdout",
     "output_type": "stream",
     "text": [
      "Overwriting integral.py\n"
     ]
    }
   ],
   "source": [
    "%%writefile integral.py\n",
    "\n",
    "import numpy as np\n",
    "from mpi4py import MPI\n",
    "import time\n",
    "\n",
    "def f(x):\n",
    "    return np.sin(x)\n",
    "\n",
    "def trapezoidal(x):\n",
    "    a = x[0]\n",
    "    b = x[-1]\n",
    "    N = len(x)\n",
    "    value = 0\n",
    "    for i in range(1, N):\n",
    "        value += (f(x[i]) + f(x[i - 1])) * (x[i] - x[i - 1]) / 2\n",
    "    return value\n",
    "    \n",
    "time_start = time.time()\n",
    "\n",
    "comm = MPI.COMM_WORLD\n",
    "size = comm.Get_size()\n",
    "rank = comm.Get_rank()\n",
    "\n",
    "a = 0\n",
    "b = np.pi\n",
    "N = 10**5 #number of points\n",
    "x = np.linspace(a, b, N)\n",
    "\n",
    "index = int(N / size)\n",
    "index_rank = x[(rank * index):(index * (rank + 1))]\n",
    "\n",
    "integral_part = trapezoidal(index_rank)\n",
    "\n",
    "integral = comm.gather(integral_part, root = 0)\n",
    "\n",
    "if rank == 0:\n",
    "    print(np.sum(integral))\n",
    "    work_time = time.time() - time_start\n",
    "    print(work_time)"
   ]
  },
  {
   "cell_type": "markdown",
   "id": "1691a4a3",
   "metadata": {},
   "source": [
    "## Pearallel computation call and Calculation of speedup"
   ]
  },
  {
   "cell_type": "code",
   "execution_count": 88,
   "id": "a4e4c9e5",
   "metadata": {},
   "outputs": [],
   "source": [
    "import numpy as np\n",
    "\n",
    "process = np.arange(1, 9)\n",
    "calculation_time = []\n",
    "\n",
    "for i in process:\n",
    "    \n",
    "    result = !mpiexec -np {i} python integral.py\n",
    "    calculation_time.append(float(result[1]))\n",
    "    \n",
    "speedup = []\n",
    "    \n",
    "for i in calculation_time:\n",
    "    speedup.append(calculation_time[0] / i)"
   ]
  },
  {
   "cell_type": "markdown",
   "id": "be99e2a0",
   "metadata": {},
   "source": [
    "## Plot of speedup vs number of processes"
   ]
  },
  {
   "cell_type": "code",
   "execution_count": 89,
   "id": "5f2814d0",
   "metadata": {},
   "outputs": [
    {
     "data": {
      "image/png": "[encoded data removed]",
      "text/plain": [
       "<Figure size 1008x504 with 1 Axes>"
      ]
     },
     "metadata": {
      "needs_background": "light"
     },
     "output_type": "display_data"
    }
   ],
   "source": [
    "import matplotlib.pyplot as plt\n",
    "\n",
    "fig, ax = plt.subplots(1, 1, figsize = (14, 7))\n",
    "\n",
    "ax.plot(process, speedup)\n",
    "ax.set_title('Speedup vs Number of processes', fontsize = 20, fontstyle = 'oblique')\n",
    "\n",
    "plt.xlabel('Number of processes', fontsize = 15, fontstyle = 'oblique')\n",
    "plt.ylabel('Speedup', fontsize = 15, fontstyle = 'oblique')\n",
    "\n",
    "plt.grid(True)\n",
    "\n",
    "plt.show()"
   ]
  },
  {
   "cell_type": "code",
   "execution_count": null,
   "id": "8b4c1005",
   "metadata": {},
   "outputs": [],
   "source": []
  }
 ],
 "metadata": {
  "kernelspec": {
   "display_name": "Python 3 (ipykernel)",
   "language": "python",
   "name": "python3"
  },
  "language_info": {
   "codemirror_mode": {
    "name": "ipython",
    "version": 3
   },
   "file_extension": ".py",
   "mimetype": "text/x-python",
   "name": "python",
   "nbconvert_exporter": "python",
   "pygments_lexer": "ipython3",
   "version": "3.10.0"
  }
 },
 "nbformat": 4,
 "nbformat_minor": 5
}
