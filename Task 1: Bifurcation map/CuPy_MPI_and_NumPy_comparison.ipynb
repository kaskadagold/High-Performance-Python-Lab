{
 "cells": [
  {
   "cell_type": "code",
   "execution_count": 16,
   "id": "78d8bcb4",
   "metadata": {},
   "outputs": [
    {
     "name": "stdout",
     "output_type": "stream",
     "text": [
      "Collecting mpi4py\n",
      "  Downloading mpi4py-3.1.4-cp36-cp36m-win_amd64.whl (518 kB)\n",
      "Installing collected packages: mpi4py\n",
      "Successfully installed mpi4py-3.1.4\n"
     ]
    }
   ],
   "source": [
    "#!pip install mpi4py"
   ]
  },
  {
   "cell_type": "code",
   "execution_count": 4,
   "id": "0af7c7be",
   "metadata": {},
   "outputs": [],
   "source": [
    "import numpy as np\n",
    "import cupy as cp\n",
    "import matplotlib.pyplot as plt"
   ]
  },
  {
   "cell_type": "markdown",
   "id": "aa0e1561",
   "metadata": {},
   "source": [
    "### MPI calculation"
   ]
  },
  {
   "cell_type": "code",
   "execution_count": 33,
   "id": "d5468faa",
   "metadata": {},
   "outputs": [
    {
     "name": "stdout",
     "output_type": "stream",
     "text": [
      "Writing parallel_bifurcation_1.py\n"
     ]
    }
   ],
   "source": [
    "%%writefile parallel_bifurcation_1.py\n",
    "\n",
    "import numpy as np\n",
    "from mpi4py import MPI\n",
    "import argparse\n",
    "\n",
    "parser = argparse.ArgumentParser()\n",
    "parser.add_argument(\"-s\", \"--sizer\", type = int, help = \"How many points should be in r.\")\n",
    "args = parser.parse_args()\n",
    "\n",
    "def formula(r, x):\n",
    "    return r * x * (1 - x)\n",
    "\n",
    "comm = MPI.COMM_WORLD\n",
    "\n",
    "size = comm.Get_size()\n",
    "rank = comm.Get_rank()\n",
    "\n",
    "# Parameters of calculation\n",
    "number_of_steps = 700\n",
    "last = 200\n",
    "length = args.sizer\n",
    "\n",
    "r = np.linspace(0.8, 4, length)\n",
    "x0 = np.random.sample() * np.ones(length)\n",
    "index = np.linspace(0, length, size + 1, dtype = int)\n",
    "\n",
    "x = []\n",
    "# Ranging calculations between processes\n",
    "r_rank = r[index[rank]:index[rank + 1]]\n",
    "x_rank = x0[index[rank]:index[rank + 1]]\n",
    "\n",
    "# Calculation in every process\n",
    "for i in range(number_of_steps):\n",
    "    x_rank = formula(r_rank, x_rank)\n",
    "    x.append(x_rank)\n",
    "    \n",
    "x_result = x[number_of_steps - last:number_of_steps]\n",
    "\n",
    "data = comm.gather([x_result, r_rank], root = 0)"
   ]
  },
  {
   "cell_type": "markdown",
   "id": "511f3217",
   "metadata": {},
   "source": [
    "### CuPy implementation"
   ]
  },
  {
   "cell_type": "code",
   "execution_count": 49,
   "id": "002aa4fc",
   "metadata": {},
   "outputs": [],
   "source": [
    "def bifurcation_cupy(x0, r, last, number_of_steps = 200):\n",
    "    for i in r:\n",
    "        x = cp.empty(int(number_of_steps))\n",
    "        x[0] = x0\n",
    "        for j in range(number_of_steps):\n",
    "            x_next = i * x[j-1] * (1 - x[j-1])\n",
    "            x[j] = x_next\n",
    "        y = x[number_of_steps - last:number_of_steps]  \n",
    "    return y"
   ]
  },
  {
   "cell_type": "markdown",
   "id": "122019d8",
   "metadata": {},
   "source": [
    "### NumPy implementation"
   ]
  },
  {
   "cell_type": "code",
   "execution_count": 19,
   "id": "a66191d9",
   "metadata": {},
   "outputs": [],
   "source": [
    "def bifurcation_numpy(x0, R, last, number_of_steps):\n",
    "    for r in R:\n",
    "        x = np.empty(int(number_of_steps))\n",
    "        x[0] = x0\n",
    "        for i in range(number_of_steps):\n",
    "            x_next = r * x[i-1] * (1 - x[i-1])\n",
    "            x[i] = x_next\n",
    "        y = x[number_of_steps - last:number_of_steps]  \n",
    "    return y"
   ]
  },
  {
   "cell_type": "code",
   "execution_count": 46,
   "id": "4707436d",
   "metadata": {},
   "outputs": [
    {
     "name": "stdout",
     "output_type": "stream",
     "text": [
      "105 ms ± 3.79 ms per loop (mean ± std. dev. of 2 runs, 1 loop each)\n",
      "596 ms ± 14.1 ms per loop (mean ± std. dev. of 2 runs, 1 loop each)\n",
      "8.85 s ± 359 ms per loop (mean ± std. dev. of 2 runs, 1 loop each)\n",
      "99.1 ms ± 2.28 ms per loop (mean ± std. dev. of 2 runs, 1 loop each)\n"
     ]
    },
    {
     "name": "stderr",
     "output_type": "stream",
     "text": [
      "C:\\Users\\Olga\\miniconda3\\envs\\numbatutorial_1\\lib\\site-packages\\ipykernel_launcher.py:6: RuntimeWarning: invalid value encountered in double_scalars\n",
      "  \n"
     ]
    },
    {
     "name": "stdout",
     "output_type": "stream",
     "text": [
      "625 ms ± 29.5 ms per loop (mean ± std. dev. of 2 runs, 1 loop each)\n",
      "10.8 s ± 10.2 ms per loop (mean ± std. dev. of 2 runs, 1 loop each)\n",
      "112 ms ± 10.2 ms per loop (mean ± std. dev. of 2 runs, 1 loop each)\n",
      "629 ms ± 646 µs per loop (mean ± std. dev. of 2 runs, 1 loop each)\n",
      "12.4 s ± 224 ms per loop (mean ± std. dev. of 2 runs, 1 loop each)\n",
      "143 ms ± 21.4 ms per loop (mean ± std. dev. of 2 runs, 1 loop each)\n",
      "680 ms ± 8.92 ms per loop (mean ± std. dev. of 2 runs, 1 loop each)\n",
      "20.8 s ± 5.26 s per loop (mean ± std. dev. of 2 runs, 1 loop each)\n",
      "248 ms ± 1.67 ms per loop (mean ± std. dev. of 2 runs, 1 loop each)\n",
      "961 ms ± 217 ms per loop (mean ± std. dev. of 2 runs, 1 loop each)\n",
      "30.2 s ± 2.68 s per loop (mean ± std. dev. of 2 runs, 1 loop each)\n"
     ]
    }
   ],
   "source": [
    "last = 200\n",
    "N = 200\n",
    "x0 = float(np.random.sample())\n",
    "\n",
    "number_of_steps = np.arange(500, 1000, 100)\n",
    "time_cp = []\n",
    "time_np = []\n",
    "time_mpi = []\n",
    "\n",
    "for i in number_of_steps:\n",
    "    r_np = np.linspace(0, 4, i)\n",
    "    time = %timeit -o -r 2 -n 1 bifurcation_numpy(x0, r_np, last, N)\n",
    "    time_np.append(time.best)\n",
    "    \n",
    "    time = %timeit -o -r 2 -n 1 !mpiexec -np 8 python parallel_bifurcation_1.py -s {i}\n",
    "    time_mpi.append(time.best)\n",
    "    \n",
    "    r_cp = cp.linspace(0, 4, i)\n",
    "    time = %timeit -o -r 2 -n 1 bifurcation_cupy(x0, r_cp, last, N)\n",
    "    time_cp.append(time.best)\n"
   ]
  },
  {
   "cell_type": "markdown",
   "id": "e4bdb044",
   "metadata": {},
   "source": [
    "### Comparison of computational time for NumPy, MPI, and CuPy"
   ]
  },
  {
   "cell_type": "code",
   "execution_count": 47,
   "id": "92f25d23",
   "metadata": {},
   "outputs": [
    {
     "data": {
      "image/png": "[encoded data removed]",
      "text/plain": [
       "<Figure size 1008x504 with 1 Axes>"
      ]
     },
     "metadata": {
      "needs_background": "light"
     },
     "output_type": "display_data"
    }
   ],
   "source": [
    "fig, ax = plt.subplots(1, 1, figsize = (14, 7))\n",
    "\n",
    "ax.plot(number_of_steps, time_cp, label = 'CuPy')\n",
    "ax.plot(number_of_steps, time_mpi, 'r', label = 'MPI')\n",
    "ax.plot(number_of_steps, time_np, 'g', label = 'NumPy')\n",
    "ax.set_title('Computational time', fontsize = 20, fontstyle = 'oblique')\n",
    "\n",
    "plt.xlabel('Number of elements in the array', fontsize = 15, fontstyle = 'oblique')\n",
    "plt.ylabel('Computational time, s', fontsize = 15, fontstyle = 'oblique')\n",
    "\n",
    "plt.legend(prop={'size': 15}, bbox_to_anchor = (1, 1))\n",
    "plt.grid(True)\n",
    "\n",
    "plt.show()"
   ]
  },
  {
   "cell_type": "markdown",
   "id": "6cfce5a8",
   "metadata": {},
   "source": [
    "I do not know why the computational time for CuPy is the largest in my case. Perhaps, the reason is that there is two video cards and there are no suitable drivers for the discrete one. The processor load, meanwhile, is max."
   ]
  },
  {
   "cell_type": "markdown",
   "id": "8f1c589e",
   "metadata": {},
   "source": [
    "### Profiling"
   ]
  },
  {
   "cell_type": "code",
   "execution_count": 42,
   "id": "98b32d55",
   "metadata": {},
   "outputs": [],
   "source": [
    "r = cp.linspace(0, 4, 1000)"
   ]
  },
  {
   "cell_type": "code",
   "execution_count": 43,
   "id": "59b3198f",
   "metadata": {},
   "outputs": [
    {
     "name": "stdout",
     "output_type": "stream",
     "text": [
      "         1805004 function calls in 21.767 seconds\n",
      "\n",
      "   Ordered by: standard name\n",
      "\n",
      "   ncalls  tottime  percall  cumtime  percall filename:lineno(function)\n",
      "   200000    0.178    0.000    0.647    0.000 <__array_function__ internals>:2(min_scalar_type)\n",
      "        1   20.598   20.598   21.767   21.767 <ipython-input-41-884a6e67ec5e>:1(bifurcation_cupy)\n",
      "        1    0.000    0.000   21.767   21.767 <string>:1(<module>)\n",
      "     1000    0.007    0.000    0.007    0.000 basic.py:7(empty)\n",
      "   200000    0.042    0.000    0.042    0.000 multiarray.py:583(min_scalar_type)\n",
      "   602000    0.394    0.000    0.514    0.000 numeric.py:1816(isscalar)\n",
      "        1    0.000    0.000   21.767   21.767 {built-in method builtins.exec}\n",
      "   602000    0.121    0.000    0.121    0.000 {built-in method builtins.isinstance}\n",
      "   200000    0.427    0.000    0.427    0.000 {built-in method numpy.core._multiarray_umath.implement_array_function}\n",
      "        1    0.000    0.000    0.000    0.000 {method 'disable' of '_lsprof.Profiler' objects}\n",
      "\n",
      "\n"
     ]
    }
   ],
   "source": [
    "import cProfile\n",
    "\n",
    "cProfile.run('bifurcation_cupy(x0, r, last, number_of_steps)')"
   ]
  }
 ],
 "metadata": {
  "kernelspec": {
   "display_name": "Python 3 (ipykernel)",
   "language": "python",
   "name": "python3"
  },
  "language_info": {
   "codemirror_mode": {
    "name": "ipython",
    "version": 3
   },
   "file_extension": ".py",
   "mimetype": "text/x-python",
   "name": "python",
   "nbconvert_exporter": "python",
   "pygments_lexer": "ipython3",
   "version": "3.10.0"
  }
 },
 "nbformat": 4,
 "nbformat_minor": 5
}
